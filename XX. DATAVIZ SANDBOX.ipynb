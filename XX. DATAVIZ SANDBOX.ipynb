{
 "cells": [
  {
   "cell_type": "markdown",
   "metadata": {},
   "source": [
    "# CUTE CHARTS"
   ]
  },
  {
   "cell_type": "code",
   "execution_count": 1,
   "metadata": {
    "ExecuteTime": {
     "end_time": "2022-03-29T12:06:48.432376Z",
     "start_time": "2022-03-29T12:06:46.018069Z"
    }
   },
   "outputs": [],
   "source": [
    "#import library and data\n",
    "import pandas as pd\n",
    "import cutecharts.charts as ctc\n",
    "df=pd.DataFrame({\n",
    " 'x':['Sun.','Mon.','Tue.','Wed.','Thu.','Fri.','Sat.'],\n",
    " 'y':[14,15,17,20,22.3,23.7,24.8],\n",
    " 'z':[16,16.4,23.6,24.5,19.9,13.6,13.4]})"
   ]
  },
  {
   "cell_type": "code",
   "execution_count": 20,
   "metadata": {
    "ExecuteTime": {
     "end_time": "2022-03-29T12:16:49.106727Z",
     "start_time": "2022-03-29T12:16:49.092764Z"
    }
   },
   "outputs": [
    {
     "data": {
      "text/html": [
       "\n",
       "<script>\n",
       "    require.config({\n",
       "        paths: {\n",
       "            'chartXkcd':'https://cdn.jsdelivr.net/npm/chart.xkcd@1.1/dist/chart.xkcd.min'\n",
       "        }\n",
       "    });\n",
       "</script>\n",
       "\n",
       "<div id=\"3c1a7df8d98e464794efcc7aa5278df8\" class=\"chart-container\" style=\"width: 500px\">\n",
       "        <svg id=\"chart_3c1a7df8d98e464794efcc7aa5278df8\"></svg>\n",
       "    </div>\n",
       "    <script>\n",
       "        require(['chartXkcd'], function(chartXkcd) {\n",
       "            const svg_3c1a7df8d98e464794efcc7aa5278df8 = document.querySelector('#chart_3c1a7df8d98e464794efcc7aa5278df8')\n",
       "            const chart_3c1a7df8d98e464794efcc7aa5278df8 = new chartXkcd.Bar(svg_3c1a7df8d98e464794efcc7aa5278df8, {\"title\": \"Toronto Temperature\", \"data\": {\"datasets\": [{\"label\": \"This week\", \"data\": [14.0, 15.0, 17.0, 20.0, 22.3, 23.7, 24.8]}], \"labels\": [\"Sun.\", \"Mon.\", \"Tue.\", \"Wed.\", \"Thu.\", \"Fri.\", \"Sat.\"]}, \"xLabel\": \"Days\", \"yLabel\": \"Temperature (Celsius)\", \"options\": {\"yTickCount\": 3, \"dataColors\": [\"#FFF1C9\", \"#F7B7A3\", \"#EA5F89\", \"#9B3192\", \"#57167E\", \"#47B39C\", \"#00529B\"]}});\n",
       "        })\n",
       "    </script>\n"
      ],
      "text/plain": [
       "<cutecharts.render.engine.HTML at 0x20b32fc58e0>"
      ]
     },
     "execution_count": 20,
     "metadata": {},
     "output_type": "execute_result"
    }
   ],
   "source": [
    "chart = ctc.Bar('Toronto Temperature',width='500px',height='400px')\n",
    "chart.set_options(\n",
    " labels=list(df['x']),\n",
    " x_label='Days',\n",
    " y_label='Temperature (Celsius)' ,\n",
    " colors=['#FFF1C9','#F7B7A3','#EA5F89','#9B3192','#57167E','#47B39C','#00529B']\n",
    ")\n",
    "\n",
    "\n",
    "chart.add_series('This week',list(df['y']))\n",
    "chart.render_notebook()"
   ]
  },
  {
   "cell_type": "code",
   "execution_count": 28,
   "metadata": {
    "ExecuteTime": {
     "end_time": "2022-03-29T12:18:26.528773Z",
     "start_time": "2022-03-29T12:18:26.517925Z"
    }
   },
   "outputs": [
    {
     "data": {
      "text/html": [
       "\n",
       "<script>\n",
       "    require.config({\n",
       "        paths: {\n",
       "            'chartXkcd':'https://cdn.jsdelivr.net/npm/chart.xkcd@1.1/dist/chart.xkcd.min'\n",
       "        }\n",
       "    });\n",
       "</script>\n",
       "\n",
       "<div id=\"ad3501d328db4364990b1f0de2b44aae\" class=\"chart-container\" style=\"width: 500px\">\n",
       "        <svg id=\"chart_ad3501d328db4364990b1f0de2b44aae\"></svg>\n",
       "    </div>\n",
       "    <script>\n",
       "        require(['chartXkcd'], function(chartXkcd) {\n",
       "            const svg_ad3501d328db4364990b1f0de2b44aae = document.querySelector('#chart_ad3501d328db4364990b1f0de2b44aae')\n",
       "            const chart_ad3501d328db4364990b1f0de2b44aae = new chartXkcd.Line(svg_ad3501d328db4364990b1f0de2b44aae, {\"title\": \"Comparaison cout donnees reelles vs synthetiques\", \"data\": {\"datasets\": [{\"label\": \"Donn\\u00e9es r\\u00e9elles\", \"data\": [0.0, 0.5, 1.0, 1.5, 2.0, 2.5, 3.0, 3.5, 4.0, 4.5]}, {\"label\": \"Donn\\u00e9es synth\\u00e9tiques\", \"data\": [0.0, 0.4949747468305833, 0.7, 0.8573214099741122, 0.9899494936611666, 1.1067971810589328, 1.212435565298214, 1.3095800853708794, 1.4, 1.4849242404917495, 1.5652475842498528]}], \"labels\": [0, 1, 2, 3, 4, 5, 6, 7, 8, 9, 10, 11]}, \"xLabel\": \"Volume de donn\\u00e9es\", \"yLabel\": \"Co\\u00fbt de production des donn\\u00e9es\", \"options\": {\"yTickCount\": 3, \"legendPosition\": 1}});\n",
       "        })\n",
       "    </script>\n"
      ],
      "text/plain": [
       "<cutecharts.render.engine.HTML at 0x20b28f7be20>"
      ]
     },
     "execution_count": 28,
     "metadata": {},
     "output_type": "execute_result"
    }
   ],
   "source": [
    "chart = ctc.Line('Comparaison cout donnees reelles vs synthetiques',width='500px',height='400px')\n",
    "chart.set_options(\n",
    " labels=list(range(0,12)), \n",
    " x_label='Volume de données',\n",
    " y_label='Coût de production des données' )\n",
    "chart.add_series('Données réelles', list(np.arange(start=0, stop=5, step=0.5))) \n",
    "chart.add_series('Données synthétiques', list(0.7*np.sqrt(np.arange(start=0, stop=5.5, step=0.5))))\n",
    "chart.render_notebook()"
   ]
  },
  {
   "cell_type": "code",
   "execution_count": 11,
   "metadata": {
    "ExecuteTime": {
     "end_time": "2022-03-07T16:12:07.175544Z",
     "start_time": "2022-03-07T16:12:07.165569Z"
    }
   },
   "outputs": [
    {
     "ename": "SyntaxError",
     "evalue": "invalid character in identifier (<ipython-input-11-66698628eda3>, line 1)",
     "output_type": "error",
     "traceback": [
      "\u001b[1;36m  File \u001b[1;32m\"<ipython-input-11-66698628eda3>\"\u001b[1;36m, line \u001b[1;32m1\u001b[0m\n\u001b[1;33m    chart = ctc.Radar(‘Toronto Temperature’,width=’700px’,height=’600px’)\u001b[0m\n\u001b[1;37m                             ^\u001b[0m\n\u001b[1;31mSyntaxError\u001b[0m\u001b[1;31m:\u001b[0m invalid character in identifier\n"
     ]
    }
   ],
   "source": [
    "chart = ctc.Radar(‘Toronto Temperature’,width=’700px’,height=’600px’)\n",
    "chart.set_options(\n",
    " labels=list(df[‘x’]),\n",
    " is_show_legend=True, #by default, it is true. You can turn it off.\n",
    " legend_pos=’upRight’  #location of the legend\n",
    " )\n",
    "chart.add_series(‘This week’,list(df[‘y’]))\n",
    "chart.add_series(“Last week”,list(df[‘z’]))\n",
    "chart.render_notebook()"
   ]
  },
  {
   "cell_type": "code",
   "execution_count": 12,
   "metadata": {
    "ExecuteTime": {
     "end_time": "2022-03-07T16:12:32.029661Z",
     "start_time": "2022-03-07T16:12:32.018690Z"
    }
   },
   "outputs": [
    {
     "ename": "SyntaxError",
     "evalue": "invalid character in identifier (<ipython-input-12-25dd45c461bd>, line 1)",
     "output_type": "error",
     "traceback": [
      "\u001b[1;36m  File \u001b[1;32m\"<ipython-input-12-25dd45c461bd>\"\u001b[1;36m, line \u001b[1;32m1\u001b[0m\n\u001b[1;33m    df=pd.DataFrame({‘x’:[‘Asia’, ‘Africa’, ‘Europe’, ‘North America’, ‘South America’, ‘Australia’],\u001b[0m\n\u001b[1;37m                       ^\u001b[0m\n\u001b[1;31mSyntaxError\u001b[0m\u001b[1;31m:\u001b[0m invalid character in identifier\n"
     ]
    }
   ],
   "source": [
    "df=pd.DataFrame({‘x’:[‘Asia’, ‘Africa’, ‘Europe’, ‘North America’, ‘South America’, ‘Australia’],\n",
    " ‘y’:[59.69, 16, 9.94, 7.79, 5.68, 0.54]})\n",
    "\n",
    "\n",
    "chart = ctc.Pie(‘% of population by continent’,width=’500px’,height=’400px’)\n",
    "chart.set_options(\n",
    " labels=list(df[‘x’]),\n",
    " inner_radius=0\n",
    " )\n",
    "chart.add_series(list(df[‘y’])) \n",
    "chart.render_notebook()"
   ]
  },
  {
   "cell_type": "code",
   "execution_count": 13,
   "metadata": {
    "ExecuteTime": {
     "end_time": "2022-03-07T16:12:39.283838Z",
     "start_time": "2022-03-07T16:12:39.275859Z"
    }
   },
   "outputs": [
    {
     "ename": "SyntaxError",
     "evalue": "invalid character in identifier (<ipython-input-13-5275e7ce237c>, line 1)",
     "output_type": "error",
     "traceback": [
      "\u001b[1;36m  File \u001b[1;32m\"<ipython-input-13-5275e7ce237c>\"\u001b[1;36m, line \u001b[1;32m1\u001b[0m\n\u001b[1;33m    df=pd.DataFrame({‘x’:[‘Asia’, ‘Africa’, ‘Europe’, ‘North America’, ‘South America’, ‘Australia’],\u001b[0m\n\u001b[1;37m                       ^\u001b[0m\n\u001b[1;31mSyntaxError\u001b[0m\u001b[1;31m:\u001b[0m invalid character in identifier\n"
     ]
    }
   ],
   "source": [
    "df=pd.DataFrame({‘x’:[‘Asia’, ‘Africa’, ‘Europe’, ‘North America’, ‘South America’, ‘Australia’],\n",
    " ‘y’:[59.69, 16, 9.94, 7.79, 5.68, 0.54]})\n",
    "chart = ctc.Pie(‘% of population by continent’,width=’500px’,height=’400px’)\n",
    "chart.set_options(\n",
    " labels=list(df[‘x’]),\n",
    " inner_radius=0.6\n",
    " )\n",
    "chart.add_series(list(df[‘y’])) \n",
    "chart.render_notebook()"
   ]
  },
  {
   "cell_type": "code",
   "execution_count": 14,
   "metadata": {
    "ExecuteTime": {
     "end_time": "2022-03-07T16:12:54.596192Z",
     "start_time": "2022-03-07T16:12:54.587212Z"
    }
   },
   "outputs": [
    {
     "ename": "SyntaxError",
     "evalue": "invalid character in identifier (<ipython-input-14-7396384b35f7>, line 4)",
     "output_type": "error",
     "traceback": [
      "\u001b[1;36m  File \u001b[1;32m\"<ipython-input-14-7396384b35f7>\"\u001b[1;36m, line \u001b[1;32m4\u001b[0m\n\u001b[1;33m    chart = ctc.Scatter(‘Ice Cream Sales vs Temperature’,width=’500px’,height=’600px’)\u001b[0m\n\u001b[1;37m                           ^\u001b[0m\n\u001b[1;31mSyntaxError\u001b[0m\u001b[1;31m:\u001b[0m invalid character in identifier\n"
     ]
    }
   ],
   "source": [
    "Temperature = [14.2,16.4,11.9,15.2,18.5,22.1,19.4,25.1,23.4,18.1,22.6,17.2]\n",
    "Sales = [215,325,185,332,406,522,412,614,544,421,445,408]\n",
    "\n",
    "chart = ctc.Scatter(‘Ice Cream Sales vs Temperature’,width=’500px’,height=’600px’)\n",
    "chart.set_options(\n",
    " x_label=”Temperature (Celcius)”,\n",
    " y_label=”Icecream Sales” ,\n",
    " colors=[‘#1EAFAE’],\n",
    " is_show_line = False,\n",
    " dot_size=1)\n",
    "chart.add_series(“Temperature”, [(z[0], z[1]) for z in zip(Temperature, Sales)])\n",
    "chart.render_notebook()"
   ]
  },
  {
   "cell_type": "code",
   "execution_count": 15,
   "metadata": {
    "ExecuteTime": {
     "end_time": "2022-03-07T16:12:56.566283Z",
     "start_time": "2022-03-07T16:12:56.553320Z"
    }
   },
   "outputs": [
    {
     "ename": "SyntaxError",
     "evalue": "invalid character in identifier (<ipython-input-15-18cc250f9da2>, line 1)",
     "output_type": "error",
     "traceback": [
      "\u001b[1;36m  File \u001b[1;32m\"<ipython-input-15-18cc250f9da2>\"\u001b[1;36m, line \u001b[1;32m1\u001b[0m\n\u001b[1;33m    chart1 = ctc.Line(“Toronto Temperature”,width=’500px’,height=’400px’)\u001b[0m\n\u001b[1;37m                             ^\u001b[0m\n\u001b[1;31mSyntaxError\u001b[0m\u001b[1;31m:\u001b[0m invalid character in identifier\n"
     ]
    }
   ],
   "source": [
    "chart1 = ctc.Line(“Toronto Temperature”,width=’500px’,height=’400px’)\n",
    "chart1.set_options(\n",
    " labels=list(df[‘x’]), \n",
    " x_label=”Days”,\n",
    " y_label=”Temperature (Celsius)” )\n",
    "chart1.add_series(“This Week”, list(df[‘y’])) \n",
    "chart1.add_series(“Last Week”, list(df[‘z’]))\n",
    "chart2 = ctc.Bar(‘Toronto Temperature’,width=’500px’,height=’400px’)\n",
    "chart2.set_options(\n",
    " labels=list(df[‘x’]),\n",
    " x_label=”Days”,\n",
    " y_label=”Temperature (Celsius)” ,\n",
    " colors=[‘#1EAFAE’ for i in range(len(df))]\n",
    " )\n",
    "chart2.add_series(“This week”,list(df[‘y’]))\n",
    "chart2.add_series(“Last week”,list(df[‘z’]))\n",
    "page = Page()\n",
    "page.add(chart1, chart2)\n",
    "page.render_notebook()"
   ]
  },
  {
   "cell_type": "code",
   "execution_count": null,
   "metadata": {},
   "outputs": [],
   "source": []
  }
 ],
 "metadata": {
  "kernelspec": {
   "display_name": "Python 3",
   "language": "python",
   "name": "python3"
  },
  "language_info": {
   "codemirror_mode": {
    "name": "ipython",
    "version": 3
   },
   "file_extension": ".py",
   "mimetype": "text/x-python",
   "name": "python",
   "nbconvert_exporter": "python",
   "pygments_lexer": "ipython3",
   "version": "3.8.5"
  },
  "toc": {
   "base_numbering": 1,
   "nav_menu": {},
   "number_sections": true,
   "sideBar": true,
   "skip_h1_title": false,
   "title_cell": "Table of Contents",
   "title_sidebar": "Contents",
   "toc_cell": false,
   "toc_position": {},
   "toc_section_display": true,
   "toc_window_display": false
  }
 },
 "nbformat": 4,
 "nbformat_minor": 4
}
